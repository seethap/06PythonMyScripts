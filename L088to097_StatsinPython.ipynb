{
 "cells": [
  {
   "cell_type": "markdown",
   "metadata": {},
   "source": [
    "# Disc Rand Var"
   ]
  },
  {
   "cell_type": "code",
   "execution_count": 1,
   "metadata": {
    "collapsed": true
   },
   "outputs": [],
   "source": [
    "#importing standard libs\n",
    "\n",
    "import numpy as np\n",
    "from numpy.random import randn\n",
    "import pandas as pd\n",
    "from scipy import stats\n",
    "import matplotlib as mpl\n",
    "import matplotlib.pyplot as plt\n",
    "import seaborn as sns\n",
    "from __future__ import division\n",
    "%matplotlib inline"
   ]
  },
  {
   "cell_type": "code",
   "execution_count": 2,
   "metadata": {
    "collapsed": false
   },
   "outputs": [
    {
     "data": {
      "image/png": "[encoded data removed]",
      "text/plain": [
       "<matplotlib.figure.Figure at 0x3cbe320>"
      ]
     },
     "metadata": {},
     "output_type": "display_data"
    }
   ],
   "source": [
    "#dice roll\n",
    "roll = [1, 2, 3, 4, 5, 6]\n",
    "\n",
    "totprob =1 \n",
    "\n",
    "prob_roll = totprob/len(roll)\n",
    "\n",
    "#using rugplot(not correct way to use rug plot)\n",
    "uni_plot = sns.rugplot(roll,height=prob_roll,c='indianred')\n"
   ]
  },
  {
   "cell_type": "code",
   "execution_count": 3,
   "metadata": {
    "collapsed": false
   },
   "outputs": [
    {
     "name": "stdout",
     "output_type": "stream",
     "text": [
      "The mean is 3.50\n"
     ]
    }
   ],
   "source": [
    "#Discrete Uni Rand Var\n",
    "\n",
    "from scipy.stats import randint\n",
    "low,high = 1,7\n",
    "mean,var = randint.stats(low,high)\n",
    "print 'The mean is %.2lf' %mean"
   ]
  },
  {
   "cell_type": "code",
   "execution_count": 4,
   "metadata": {
    "collapsed": false
   },
   "outputs": [
    {
     "data": {
      "text/plain": [
       "<Container object of 6 artists>"
      ]
     },
     "execution_count": 4,
     "metadata": {},
     "output_type": "execute_result"
    },
    {
     "data": {
      "image/png": "[encoded data removed]",
      "text/plain": [
       "<matplotlib.figure.Figure at 0x3cbebe0>"
      ]
     },
     "metadata": {},
     "output_type": "display_data"
    }
   ],
   "source": [
    "plt.bar(roll,randint.pmf(roll,low,high))"
   ]
  },
  {
   "cell_type": "markdown",
   "metadata": {},
   "source": [
    "# Cont Rand Var"
   ]
  },
  {
   "cell_type": "markdown",
   "metadata": {},
   "source": [
    " a taxi ride in NYC takes 22 minutes. After taking some time measurements from experiments we gather that all the taxi rides are uniformly distributed between 19 and 27 minutes. What is the probability density function of a taxi ride, or f(x)?"
   ]
  },
  {
   "cell_type": "code",
   "execution_count": 5,
   "metadata": {
    "collapsed": false
   },
   "outputs": [
    {
     "name": "stdout",
     "output_type": "stream",
     "text": [
      "pdf is 0.125\n"
     ]
    }
   ],
   "source": [
    "a = 19\n",
    "b=27\n",
    "fx = 1.0/(b-a)\n",
    "print \"pdf is %1.3f\" %fx"
   ]
  },
  {
   "cell_type": "code",
   "execution_count": 6,
   "metadata": {
    "collapsed": false
   },
   "outputs": [
    {
     "name": "stdout",
     "output_type": "stream",
     "text": [
      "var is 5.3\n"
     ]
    }
   ],
   "source": [
    "var = ((b-a)**2)/12\n",
    "print 'var is %1.1f' %var"
   ]
  },
  {
   "cell_type": "code",
   "execution_count": 7,
   "metadata": {
    "collapsed": false
   },
   "outputs": [
    {
     "name": "stdout",
     "output_type": "stream",
     "text": [
      "atleast 25 min prob is 25.0\n"
     ]
    }
   ],
   "source": [
    "# what's the probability that the taxi ride will last at least 25 minutes?\n",
    "fx_1 = 27.0/(b-a)\n",
    "fx_2 = 25.0/(b-a)\n",
    "ans = fx_1 - fx_2\n",
    "print \"atleast 25 min prob is %2.1f\" %(100*ans)"
   ]
  },
  {
   "cell_type": "code",
   "execution_count": 8,
   "metadata": {
    "collapsed": false
   },
   "outputs": [
    {
     "data": {
      "text/plain": [
       "[<matplotlib.lines.Line2D at 0x1f615b70>]"
      ]
     },
     "execution_count": 8,
     "metadata": {},
     "output_type": "execute_result"
    },
    {
     "data": {
      "image/png": "[encoded data removed]",
      "text/plain": [
       "<matplotlib.figure.Figure at 0x1f6da320>"
      ]
     },
     "metadata": {},
     "output_type": "display_data"
    }
   ],
   "source": [
    "from scipy.stats import uniform\n",
    "import numpy as np\n",
    "\n",
    "A=0\n",
    "B=5\n",
    "x = np.linspace(A,B,100) #100 linearly spaced points between A and B\n",
    "\n",
    "rv = uniform(loc=A,scale=B) #loc:start pt, scale:end pt\n",
    "\n",
    "plt.plot(x,rv.pdf(x))"
   ]
  },
  {
   "cell_type": "markdown",
   "metadata": {},
   "source": [
    "# Binomial Dist"
   ]
  },
  {
   "cell_type": "markdown",
   "metadata": {},
   "source": [
    "Two players are playing basketball, player A and player B. Player A takes an average of 11 shots per game, and has an average success rate of 72%. Player B takes an average of 15 shots per game, but has an average success rate of 48%.\n",
    "\n",
    "Question 1: What's the probability that Player A makes 6 shots in an average game?\n",
    "\n",
    "Question 2: What's the probability that Player B makes 6 shots in an average game?\n",
    "\n",
    "\n",
    "We can classify this as a binomial experiment if the following conditions are met:\n",
    "\n",
    "1.) The process consists of a sequence of n trials.\n",
    "\n",
    "2.) Only two exclusive outcomes are possible for each trial (A success and a failure)\n",
    "\n",
    "3.) If the probability of a success is 'p' then the probability of failure is q=1-p\n",
    "\n",
    "4.) The trials are independent.\n",
    "\n",
    "The formula for a Binomial Distribution Probability Mass Function turns out to be:\n",
    "\n",
    "$$Pr(X=k)=C(n,k)p^k (1-p)^{n-k}$$\n",
    "Where n= number of trials,k=number of successes,p=probability of success,1-p=probability of failure (often written as q=1-p).\n",
    "\n",
    "This means that to get exactly 'k' successes in 'n' trials, we want exactly 'k' successes:\n",
    "\n",
    "$$p^k$$\n",
    "\n",
    "and we want 'n-k' failures:\n",
    "$$ (1−p)^{n−k}$$\n",
    "\n",
    "Then finally, there are\n",
    "C(n,k)\n",
    "ways of putting 'k' successes in 'n' trials. So we multiply all these together to get the probability of exactly that many success and failures in those n trials!\n",
    "\n",
    "Quick note, C(n,k) refers to the number of possible combinations of N things taken k at a time.\n",
    "\n",
    "This is also equal to:\n",
    "$$C(n,k) =  \\frac{n!}{k!(n-k)!}$$"
   ]
  },
  {
   "cell_type": "code",
   "execution_count": 9,
   "metadata": {
    "collapsed": false
   },
   "outputs": [
    {
     "name": "stdout",
     "output_type": "stream",
     "text": [
      "prob of player A making six shots in average game is 11.1%\n",
      "prob of player A making six shots in average game is 17.0%\n"
     ]
    }
   ],
   "source": [
    "#PROB OF SUCCESS for A\n",
    "p_A = 0.72\n",
    "#number of shots\n",
    "n_A = 11\n",
    "#Make 6 shots\n",
    "k = 6\n",
    "\n",
    "import scipy.misc as sc # for Combination\n",
    "#Cal C(n,k)\n",
    "comb_A=sc.comb(n_A,k)\n",
    "\n",
    "answer_A = comb_A*(p_A**k)*((1-p_A)**(n_A-k))\n",
    "\n",
    "answer_A = 100*answer_A\n",
    "\n",
    "p_B = 0.48\n",
    "n_B = 15\n",
    "comb_B=sc.comb(n_B,k)\n",
    "answer_B=100*comb_B*(p_B**k)*((1-p_B)**(n_B-k))\n",
    "\n",
    "print'prob of player A making six shots in average game is %1.1f%%' %answer_A\n",
    "\n",
    "print'prob of player A making six shots in average game is %1.1f%%' %answer_B\n",
    "\n"
   ]
  },
  {
   "cell_type": "markdown",
   "metadata": {},
   "source": [
    " what about a higher amount of shots, will player's A higher probability take a stronger effect then? What's the probability of making 9 shots a game for either player?"
   ]
  },
  {
   "cell_type": "code",
   "execution_count": 10,
   "metadata": {
    "collapsed": false
   },
   "outputs": [
    {
     "name": "stdout",
     "output_type": "stream",
     "text": [
      " \n",
      "\n",
      " The probability of player A making 9 shots in an average game is 22.4% \n",
      "\n",
      "\n",
      " The probability of player B making 9 shots in an average game is 13.4% \n",
      "\n",
      "\n"
     ]
    }
   ],
   "source": [
    "#Set number of shots\n",
    "k = 9\n",
    "\n",
    "#Set new combinations\n",
    "comb_A = sc.comb(n_A,k)\n",
    "comb_B = sc.comb(n_B,k)\n",
    "\n",
    "# Everything else remains the same\n",
    "answer_A = 100 * comb_A * (p_A**k) * ((1-p_A)**(n_A-k))\n",
    "answer_B = 100 * comb_B * (p_B**k) * ((1-p_B)**(n_B-k))\n",
    "\n",
    "#Print Answers\n",
    "print ' \\n'\n",
    "print ' The probability of player A making 9 shots in an average game is %1.1f%% ' %answer_A\n",
    "print '\\n'\n",
    "print ' The probability of player B making 9 shots in an average game is %1.1f%% ' %answer_B\n",
    "print '\\n'"
   ]
  },
  {
   "cell_type": "code",
   "execution_count": 11,
   "metadata": {
    "collapsed": false
   },
   "outputs": [
    {
     "name": "stdout",
     "output_type": "stream",
     "text": [
      "\n",
      "\n",
      "Player A will make an average of 8 +/- 1 shots per game\n",
      "\n",
      "\n",
      "Player B will make an average of 7 +/- 2 shots per game\n",
      "\n",
      "\n",
      "NOTE: It's impossible to make a decimal of a shot so '%1.0f' was used to replace the float!\n"
     ]
    }
   ],
   "source": [
    "#\\mu=n*p\n",
    "#\\sigma=\\sqrt{n*q*p}\n",
    "# Get the mean\n",
    "mu_A = n_A *p_A\n",
    "mu_B = n_B *p_B\n",
    "\n",
    "#Get the standard deviation\n",
    "sigma_A = ( n_A *p_A*(1-p_A) )**0.5\n",
    "sigma_B = ( n_B *p_B*(1-p_B) )**0.5\n",
    "\n",
    "# Now print results\n",
    "print '\\n'\n",
    "print 'Player A will make an average of %1.0f +/- %1.0f shots per game' %(mu_A,sigma_A)\n",
    "print '\\n'\n",
    "print 'Player B will make an average of %1.0f +/- %1.0f shots per game' %(mu_B,sigma_B)\n",
    "print '\\n'\n",
    "print \"NOTE: It's impossible to make a decimal of a shot so '%1.0f' was used to replace the float!\""
   ]
  },
  {
   "cell_type": "code",
   "execution_count": 12,
   "metadata": {
    "collapsed": false
   },
   "outputs": [
    {
     "name": "stdout",
     "output_type": "stream",
     "text": [
      "7.92\n",
      "1.48916083752\n"
     ]
    }
   ],
   "source": [
    "#using scipy\n",
    "from scipy.stats import binom\n",
    "mean,var = binom.stats(n_A,p_A)\n",
    "\n",
    "print mean\n",
    "print var**0.5"
   ]
  },
  {
   "cell_type": "code",
   "execution_count": 13,
   "metadata": {
    "collapsed": false
   },
   "outputs": [
    {
     "data": {
      "text/plain": [
       "array([ 0.00097656,  0.00976563,  0.04394531,  0.1171875 ,  0.20507813,\n",
       "        0.24609375,  0.20507813,  0.1171875 ,  0.04394531,  0.00976563,\n",
       "        0.00097656])"
      ]
     },
     "execution_count": 13,
     "metadata": {},
     "output_type": "execute_result"
    }
   ],
   "source": [
    "#PMF for 10 coins\n",
    "\n",
    "import numpy as np\n",
    "\n",
    "n=10\n",
    "p=0.5\n",
    "x=range(n+1)\n",
    "y=binom.pmf(x,n,p)\n",
    "y"
   ]
  },
  {
   "cell_type": "code",
   "execution_count": 14,
   "metadata": {
    "collapsed": false
   },
   "outputs": [
    {
     "data": {
      "text/plain": [
       "<matplotlib.text.Text at 0x1f6255c0>"
      ]
     },
     "execution_count": 14,
     "metadata": {},
     "output_type": "execute_result"
    },
    {
     "data": {
      "image/png": "[encoded data removed]",
      "text/plain": [
       "<matplotlib.figure.Figure at 0x1f76d710>"
      ]
     },
     "metadata": {},
     "output_type": "display_data"
    }
   ],
   "source": [
    "plt.plot(x,y,'o')\n",
    "plt.title('Binomial Distribution PMF: 10 coin Flips, Odds of Success for Heads is p=0.5',y=1.08)\n",
    "plt.xlabel('Number of Heads')\n",
    "plt.ylabel('Probability')"
   ]
  },
  {
   "cell_type": "markdown",
   "metadata": {
    "collapsed": true
   },
   "source": [
    "# Poisson Distr\n",
    "\n",
    "$$ Pr(X=k)=\\frac{\\lambda^ke^{-\\lambda}}{k!}$$\n",
    "\n",
    "The Poisson Distribution has the following characteristics:\n",
    "\n",
    "1. Discrete outcomes (x=0,1,2,3...)\n",
    "2. The number of occurrences can range from zero to infinity (theoretically). \n",
    "3. It describes the distribution of infrequent (rare) events.\n",
    "4. Each event is independent of the other events.\n",
    "5. Describes discrete events over an interval such as a time or distance.\n",
    "6. The expected number of occurrences E(X) are assumed to be constant throughout the experiment."
   ]
  },
  {
   "cell_type": "markdown",
   "metadata": {},
   "source": [
    "Let's say a McDonald's has a lunch rush from 12:30pm to 1:00pm. From looking at customer sales from previous days, we know that on average 10 customers enter during 12:30pm to 1:00pm. What is the probability that exactly 7 customers enter during lunch rush? What is the probability that more than 10 customers arrive?"
   ]
  },
  {
   "cell_type": "code",
   "execution_count": 15,
   "metadata": {
    "collapsed": false
   },
   "outputs": [
    {
     "name": "stdout",
     "output_type": "stream",
     "text": [
      "probability that exactly 7 customers enter during lunch rush is 9.01%\n"
     ]
    }
   ],
   "source": [
    "from math import exp,factorial\n",
    "from __future__ import division\n",
    "\n",
    "lamb=10 #cannot use lambda, lambda is a functino name\n",
    "\n",
    "k = 7\n",
    "\n",
    "prob = (lamb**k)*exp(-lamb)/factorial(k)\n",
    "\n",
    "print \"probability that exactly 7 customers enter during lunch rush is %2.2f%%\" %(100*prob)\n",
    "\n"
   ]
  },
  {
   "cell_type": "code",
   "execution_count": 16,
   "metadata": {
    "collapsed": false
   },
   "outputs": [
    {
     "name": "stdout",
     "output_type": "stream",
     "text": [
      "probability that exactly 7 customers enter during lunch rush is 9.01%\n",
      "the mean is 10.00\n"
     ]
    }
   ],
   "source": [
    "# USING scipy\n",
    "\n",
    "from scipy.stats import poisson\n",
    "\n",
    "mu=10\n",
    "\n",
    "mean,var = poisson.stats(mu)\n",
    "\n",
    "ods_seven=poisson(7,mu)\n",
    "\n",
    "print \"probability that exactly 7 customers enter during lunch rush is %2.2f%%\" %(100*prob)\n",
    "\n",
    "print \"the mean is %2.2f\" %mean\n"
   ]
  },
  {
   "cell_type": "code",
   "execution_count": 17,
   "metadata": {
    "collapsed": false
   },
   "outputs": [
    {
     "data": {
      "text/plain": [
       "<Container object of 30 artists>"
      ]
     },
     "execution_count": 17,
     "metadata": {},
     "output_type": "execute_result"
    },
    {
     "data": {
      "image/png": "[encoded data removed]",
      "text/plain": [
       "<matplotlib.figure.Figure at 0x1f6da588>"
      ]
     },
     "metadata": {},
     "output_type": "display_data"
    }
   ],
   "source": [
    "# Plotting PMF\n",
    "import numpy as np\n",
    "#theoreticall infinite #customers can show up, #seeing only upto 30\n",
    "k=np.arange(30)\n",
    "lamb = 10\n",
    "pmf_pois = poisson.pmf(k,lamb)\n",
    "\n",
    "import matplotlib.pyplot as plt\n",
    "import seaborn as sns\n",
    "%matplotlib inline\n",
    "\n",
    "plt.bar(k,pmf_pois)"
   ]
  },
  {
   "cell_type": "code",
   "execution_count": 18,
   "metadata": {
    "collapsed": false
   },
   "outputs": [
    {
     "name": "stdout",
     "output_type": "stream",
     "text": [
      "The probability that 10 or less customers show up is 58.3 %.\n"
     ]
    }
   ],
   "source": [
    "#CDF\n",
    "k,mu = 10,10\n",
    "prob_upto_ten=poisson.cdf(k,mu)\n",
    "print 'The probability that 10 or less customers show up is %2.1f %%.' %(100*prob_upto_ten)"
   ]
  },
  {
   "cell_type": "code",
   "execution_count": 19,
   "metadata": {
    "collapsed": false
   },
   "outputs": [
    {
     "name": "stdout",
     "output_type": "stream",
     "text": [
      "The probability that more than ten customers show up during lunch rush is 41.7 %.\n"
     ]
    }
   ],
   "source": [
    "prob_more_than_ten = 1 - prob_upto_ten\n",
    "\n",
    "print 'The probability that more than ten customers show up during lunch rush is %2.1f %%.' %(100*prob_more_than_ten)"
   ]
  },
  {
   "cell_type": "markdown",
   "metadata": {},
   "source": [
    "# Normal Dist"
   ]
  },
  {
   "cell_type": "markdown",
   "metadata": {},
   "source": [
    "The distribution is defined by the probability density function equation:\n",
    "\n",
    "\n",
    "$$f(x,\\mu,\\sigma) = \\frac{1}{\\sigma\\sqrt{2\\pi}}e^\\frac{-1}{2z^2}$$\n",
    "where, $$z=\\frac{(X-\\mu)}{\\sigma}$$"
   ]
  },
  {
   "cell_type": "code",
   "execution_count": 20,
   "metadata": {
    "collapsed": false
   },
   "outputs": [
    {
     "data": {
      "text/html": [
       "<img src=\"http://upload.wikimedia.org/wikipedia/commons/thumb/2/25/The_Normal_Distribution.svg/725px-The_Normal_Distribution.svg.png\"/>"
      ],
      "text/plain": [
       "<IPython.core.display.Image object>"
      ]
     },
     "execution_count": 20,
     "metadata": {},
     "output_type": "execute_result"
    }
   ],
   "source": [
    "from IPython.display import Image\n",
    "Image(url='http://upload.wikimedia.org/wikipedia/commons/thumb/2/25/The_Normal_Distribution.svg/725px-The_Normal_Distribution.svg.png')"
   ]
  },
  {
   "cell_type": "code",
   "execution_count": 21,
   "metadata": {
    "collapsed": false
   },
   "outputs": [
    {
     "data": {
      "text/plain": [
       "[<matplotlib.lines.Line2D at 0x1ffc1710>]"
      ]
     },
     "execution_count": 21,
     "metadata": {},
     "output_type": "execute_result"
    },
    {
     "data": {
      "image/png": "[encoded data removed]",
      "text/plain": [
       "<matplotlib.figure.Figure at 0x1f76d470>"
      ]
     },
     "metadata": {},
     "output_type": "display_data"
    }
   ],
   "source": [
    "# scipy method\n",
    "from scipy import stats\n",
    "\n",
    "mean=0\n",
    "std =1 \n",
    "X=np.arange(-4,4,0.01)\n",
    "Y=stats.norm.pdf(X,mean,std)\n",
    "plt.plot(X,Y)"
   ]
  },
  {
   "cell_type": "code",
   "execution_count": 22,
   "metadata": {
    "collapsed": false
   },
   "outputs": [
    {
     "data": {
      "text/plain": [
       "(array([  2.,   1.,   0.,   1.,   6.,   3.,   2.,   8.,   8.,   6.,   8.,\n",
       "          9.,   8.,  15.,  27.,  27.,  27.,  41.,  38.,  46.,  45.,  47.,\n",
       "         44.,  43.,  51.,  44.,  40.,  41.,  42.,  41.,  18.,  42.,  38.,\n",
       "         36.,  28.,  25.,  10.,  20.,  15.,  14.,   8.,   5.,   4.,   7.,\n",
       "          2.,   4.,   0.,   2.,   0.,   1.]),\n",
       " array([-0.31000502, -0.29763157, -0.28525813, -0.27288468, -0.26051123,\n",
       "        -0.24813778, -0.23576434, -0.22339089, -0.21101744, -0.198644  ,\n",
       "        -0.18627055, -0.1738971 , -0.16152366, -0.14915021, -0.13677676,\n",
       "        -0.12440332, -0.11202987, -0.09965642, -0.08728297, -0.07490953,\n",
       "        -0.06253608, -0.05016263, -0.03778919, -0.02541574, -0.01304229,\n",
       "        -0.00066885,  0.0117046 ,  0.02407805,  0.03645149,  0.04882494,\n",
       "         0.06119839,  0.07357184,  0.08594528,  0.09831873,  0.11069218,\n",
       "         0.12306562,  0.13543907,  0.14781252,  0.16018596,  0.17255941,\n",
       "         0.18493286,  0.1973063 ,  0.20967975,  0.2220532 ,  0.23442664,\n",
       "         0.24680009,  0.25917354,  0.27154699,  0.28392043,  0.29629388,\n",
       "         0.30866733]),\n",
       " <a list of 50 Patch objects>)"
      ]
     },
     "execution_count": 22,
     "metadata": {},
     "output_type": "execute_result"
    },
    {
     "data": {
      "image/png": "[encoded data removed]",
      "text/plain": [
       "<matplotlib.figure.Figure at 0x1f1847f0>"
      ]
     },
     "metadata": {},
     "output_type": "display_data"
    }
   ],
   "source": [
    "#using numpy\n",
    "mu,sigma=0,0.1\n",
    "norm_set=np.random.normal(mu,sigma,1000)\n",
    "\n",
    "plt.hist(norm_set,bins=50)"
   ]
  },
  {
   "cell_type": "markdown",
   "metadata": {},
   "source": [
    "# Sampling techniques\n",
    "\n",
    "http://nbviewer.ipython.org/github/jmportilla/Statistics-Notes/blob/master/Sampling%20Techniques.ipynb"
   ]
  },
  {
   "cell_type": "markdown",
   "metadata": {},
   "source": [
    "# T-distribution (Small sampling theory)\n",
    "\n",
    "http://nbviewer.ipython.org/github/jmportilla/Statistics-Notes/blob/master/T%20Distribution%20%28Small%20Sampling%20Theory%29.ipynb\n",
    "\n",
    "N>30 : Normal distr\n",
    "N<30 : student-T distr\n",
    "http://www.sjsu.edu/faculty/gerstman/StatPrimer/t-table.pdf"
   ]
  },
  {
   "cell_type": "code",
   "execution_count": 23,
   "metadata": {
    "collapsed": false
   },
   "outputs": [
    {
     "data": {
      "text/plain": [
       "[<matplotlib.lines.Line2D at 0x205c10b8>]"
      ]
     },
     "execution_count": 23,
     "metadata": {},
     "output_type": "execute_result"
    },
    {
     "data": {
      "image/png": "[encoded data removed]",
      "text/plain": [
       "<matplotlib.figure.Figure at 0x203a70f0>"
      ]
     },
     "metadata": {},
     "output_type": "display_data"
    }
   ],
   "source": [
    "from scipy.stats import t\n",
    "X=np.linspace(-5,5,100)\n",
    "rv=t(3) #3 samples\n",
    "plt.plot(X,rv.pdf(X))"
   ]
  },
  {
   "cell_type": "markdown",
   "metadata": {},
   "source": [
    "# Hypothesis Testing\n",
    "\n",
    "\n",
    "http://nbviewer.ipython.org/github/jmportilla/Statistics-Notes/blob/master/Hypothesis%20Testing%20and%20Confidence%20Intervals.ipynb"
   ]
  },
  {
   "cell_type": "markdown",
   "metadata": {},
   "source": [
    "#  CHI square\n",
    "http://nbviewer.ipython.org/github/jmportilla/Statistics-Notes/blob/master/Chi-Square.ipynb"
   ]
  },
  {
   "cell_type": "markdown",
   "metadata": {},
   "source": [
    "# Bayes theorem\n",
    "\n",
    "http://nbviewer.ipython.org/github/jmportilla/Statistics-Notes/blob/master/Bayes%27%20Theorem.ipynb\n",
    "\n"
   ]
  }
 ],
 "metadata": {
  "kernelspec": {
   "display_name": "Python 2",
   "language": "python",
   "name": "python2"
  },
  "language_info": {
   "codemirror_mode": {
    "name": "ipython",
    "version": 2
   },
   "file_extension": ".py",
   "mimetype": "text/x-python",
   "name": "python",
   "nbconvert_exporter": "python",
   "pygments_lexer": "ipython2",
   "version": "2.7.10"
  }
 },
 "nbformat": 4,
 "nbformat_minor": 0
}
